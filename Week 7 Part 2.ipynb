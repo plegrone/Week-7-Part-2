{
 "cells": [
  {
   "cell_type": "code",
   "execution_count": 1,
   "metadata": {},
   "outputs": [],
   "source": [
    "import shapely"
   ]
  },
  {
   "cell_type": "code",
   "execution_count": 2,
   "metadata": {},
   "outputs": [],
   "source": [
    "import fiona"
   ]
  },
  {
   "cell_type": "code",
   "execution_count": 8,
   "metadata": {},
   "outputs": [
    {
     "name": "stdout",
     "output_type": "stream",
     "text": [
      "OrderedDict([('name', 'Chicago'), ('lat', '41.88'), ('lon', '-87.63')])\n",
      "OrderedDict([('name', 'Kansas City'), ('lat', '39.101'), ('lon', '-94.584')])\n"
     ]
    }
   ],
   "source": [
    "import csv\n",
    "with open('some.csv', 'r') as f:\n",
    "    reader = csv.DictReader(f)\n",
    "    for row in reader:\n",
    "        print(row)"
   ]
  },
  {
   "cell_type": "code",
   "execution_count": 16,
   "metadata": {},
   "outputs": [
    {
     "name": "stdout",
     "output_type": "stream",
     "text": [
      "OrderedDict([('name', 'Chicago'), ('lat', '41.88'), ('lon', '-87.63')])\n",
      "POINT (-87.63 41.88)\n",
      "OrderedDict([('name', 'Kansas City'), ('lat', '39.101'), ('lon', '-94.584')])\n",
      "POINT (-94.584 39.101)\n"
     ]
    }
   ],
   "source": [
    "import csv\n",
    "from shapely.geometry import Point\n",
    "with open('some.csv', 'r') as f:\n",
    "    reader = csv.DictReader(f)\n",
    "    for row in reader:\n",
    "        point = Point(float(row['lon']), float(row['lat']))\n",
    "        print(row)\n",
    "        print(point)"
   ]
  },
  {
   "cell_type": "code",
   "execution_count": 11,
   "metadata": {},
   "outputs": [],
   "source": [
    "import csv\n",
    "from shapely.geometry import Point, mapping\n",
    "from fiona import collection\n",
    "\n",
    "schema = { 'geometry': 'Point', 'properties': { 'name': 'str' } }\n",
    "with collection(\n",
    "    \"some.shp\", \"w\", \"ESRI Shapefile\", schema) as output:\n",
    "    with open('some.csv', 'r') as f:\n",
    "        reader = csv.DictReader(f)\n",
    "        for row in reader:\n",
    "            point = Point(float(row['lon']), float(row['lat']))\n",
    "            output.write({\n",
    "                'properties': {\n",
    "                    'name': row['name']\n",
    "                },\n",
    "                'geometry': mapping(point)\n",
    "            })"
   ]
  },
  {
   "cell_type": "code",
   "execution_count": 12,
   "metadata": {},
   "outputs": [],
   "source": [
    "from shapely.geometry import mapping, shape\n",
    "from fiona import collection\n",
    "\n",
    "with collection(\"some.shp\", \"r\") as input:\n",
    "    # schema = input.schema.copy()\n",
    "    schema = { 'geometry': 'Polygon', 'properties': { 'name': 'str' } }\n",
    "    with collection(\n",
    "        \"some_buffer.shp\", \"w\", \"ESRI Shapefile\", schema) as output:\n",
    "        for point in input:\n",
    "            output.write({\n",
    "                'properties': {\n",
    "                    'name': point['properties']['name']\n",
    "                },\n",
    "                'geometry': mapping(shape(point['geometry']).buffer(5.0))\n",
    "            })"
   ]
  },
  {
   "cell_type": "code",
   "execution_count": 13,
   "metadata": {},
   "outputs": [],
   "source": [
    "from shapely.geometry import mapping, shape\n",
    "from shapely.ops import cascaded_union\n",
    "from fiona import collection\n",
    "\n",
    "with collection(\"some_buffer.shp\", \"r\") as input:\n",
    "    schema = input.schema.copy()\n",
    "    with collection(\n",
    "            \"some_union.shp\", \"w\", \"ESRI Shapefile\", schema) as output:\n",
    "        shapes = []\n",
    "        for f in input:\n",
    "            shapes.append(shape(f['geometry']))\n",
    "        merged = cascaded_union(shapes)\n",
    "        output.write({\n",
    "            'properties': {\n",
    "                'name': 'Buffer Area'\n",
    "                },\n",
    "            'geometry': mapping(merged)\n",
    "            })"
   ]
  }
 ],
 "metadata": {
  "kernelspec": {
   "display_name": "ShFi",
   "language": "python",
   "name": "shfi"
  },
  "language_info": {
   "codemirror_mode": {
    "name": "ipython",
    "version": 3
   },
   "file_extension": ".py",
   "mimetype": "text/x-python",
   "name": "python",
   "nbconvert_exporter": "python",
   "pygments_lexer": "ipython3",
   "version": "3.7.3"
  }
 },
 "nbformat": 4,
 "nbformat_minor": 2
}
